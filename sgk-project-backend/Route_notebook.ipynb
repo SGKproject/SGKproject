{
 "cells": [
  {
   "cell_type": "code",
   "execution_count": 216,
   "metadata": {},
   "outputs": [],
   "source": [
    "import numpy as np"
   ]
  },
  {
   "cell_type": "code",
   "execution_count": 217,
   "metadata": {},
   "outputs": [],
   "source": [
    "class Data:\n",
    "    max_depth = 15\n",
    "    empty_val = np.nan\n",
    "\n",
    "    def __init__(self):\n",
    "        self.names = []\n",
    "        self.record_times = np.zeros((Data.max_depth,1))\n",
    "        self.values = np.empty((Data.max_depth,0))\n",
    "        self.depth = 0\n",
    "        self.time_cur = 0\n",
    "        \n",
    "    def put(self, name, val, time):\n",
    "\n",
    "        if name not in self.names:\n",
    "            self.names.append(name)\n",
    "            self.depth = 1\n",
    "            param_val = np.zeros((Data.max_depth, 1))\n",
    "            self.values = np.concatenate((self.values, param_val), axis=1)\n",
    "\n",
    "        index_val = self.names.index(name)\n",
    "\n",
    "        if time > self.time_cur:\n",
    "            self.record_times = Data.shift(self.record_times, -1, Data.empty_val) \n",
    "            self.record_times[Data.max_depth - 1] = time\n",
    "            self.time_cur = time\n",
    "            self.values = Data.shift(self.values, -1, Data.empty_val)\n",
    "            self.values[Data.max_depth - 1, index_val] = val\n",
    "            self.depth += 1\n",
    "        elif time == self.time_cur:\n",
    "            self.values[Data.max_depth - 1, index_val] = val\n",
    "\n",
    "    @staticmethod\n",
    "    def shift(arr, num, fill_value=np.nan):\n",
    "        result = np.empty_like(arr)\n",
    "        if num > 0:\n",
    "            result[:num] = fill_value\n",
    "            result[num:] = arr[:-num]\n",
    "        elif num < 0:\n",
    "            result[num:] = fill_value\n",
    "            result[:num] = arr[-num:]\n",
    "        else:\n",
    "            result = arr\n",
    "        return result"
   ]
  },
  {
   "cell_type": "code",
   "execution_count": 218,
   "metadata": {},
   "outputs": [],
   "source": [
    "data = Data()"
   ]
  },
  {
   "cell_type": "code",
   "execution_count": 219,
   "metadata": {},
   "outputs": [
    {
     "data": {
      "text/plain": [
       "array([], shape=(15, 0), dtype=float64)"
      ]
     },
     "execution_count": 219,
     "metadata": {},
     "output_type": "execute_result"
    }
   ],
   "source": [
    "data.values"
   ]
  },
  {
   "cell_type": "code",
   "execution_count": 220,
   "metadata": {},
   "outputs": [
    {
     "data": {
      "text/plain": [
       "array([[0.],\n",
       "       [0.],\n",
       "       [0.],\n",
       "       [0.],\n",
       "       [0.],\n",
       "       [0.],\n",
       "       [0.],\n",
       "       [0.],\n",
       "       [0.],\n",
       "       [0.],\n",
       "       [0.],\n",
       "       [0.],\n",
       "       [0.],\n",
       "       [0.],\n",
       "       [0.]])"
      ]
     },
     "execution_count": 220,
     "metadata": {},
     "output_type": "execute_result"
    }
   ],
   "source": [
    "data.record_times"
   ]
  },
  {
   "cell_type": "code",
   "execution_count": 221,
   "metadata": {},
   "outputs": [],
   "source": [
    "#data.put(\"Tp2\", 10, 0)"
   ]
  },
  {
   "cell_type": "code",
   "execution_count": 222,
   "metadata": {},
   "outputs": [
    {
     "data": {
      "text/plain": [
       "array([], shape=(15, 0), dtype=float64)"
      ]
     },
     "execution_count": 222,
     "metadata": {},
     "output_type": "execute_result"
    }
   ],
   "source": [
    "data.values"
   ]
  },
  {
   "cell_type": "code",
   "execution_count": 223,
   "metadata": {},
   "outputs": [
    {
     "name": "stdout",
     "output_type": "stream",
     "text": [
      "[[  0.   0.]\n",
      " [  0.   0.]\n",
      " [  0.   0.]\n",
      " [  0.   0.]\n",
      " [  0.   0.]\n",
      " [  0.   0.]\n",
      " [  0.   0.]\n",
      " [  0.   0.]\n",
      " [  0.   0.]\n",
      " [  0.   0.]\n",
      " [  0.   0.]\n",
      " [  0.   0.]\n",
      " [  0.   0.]\n",
      " [  0.   0.]\n",
      " [101.   1.]]\n",
      "[[  0.   0.]\n",
      " [  0.   0.]\n",
      " [  0.   0.]\n",
      " [  0.   0.]\n",
      " [  0.   0.]\n",
      " [  0.   0.]\n",
      " [  0.   0.]\n",
      " [  0.   0.]\n",
      " [  0.   0.]\n",
      " [  0.   0.]\n",
      " [  0.   0.]\n",
      " [  0.   0.]\n",
      " [  0.   0.]\n",
      " [101.   1.]\n",
      " [102.   2.]]\n",
      "[[  0.   0.]\n",
      " [  0.   0.]\n",
      " [  0.   0.]\n",
      " [  0.   0.]\n",
      " [  0.   0.]\n",
      " [  0.   0.]\n",
      " [  0.   0.]\n",
      " [  0.   0.]\n",
      " [  0.   0.]\n",
      " [  0.   0.]\n",
      " [  0.   0.]\n",
      " [  0.   0.]\n",
      " [101.   1.]\n",
      " [102.   2.]\n",
      " [103.   3.]]\n",
      "[[  0.   0.]\n",
      " [  0.   0.]\n",
      " [  0.   0.]\n",
      " [  0.   0.]\n",
      " [  0.   0.]\n",
      " [  0.   0.]\n",
      " [  0.   0.]\n",
      " [  0.   0.]\n",
      " [  0.   0.]\n",
      " [  0.   0.]\n",
      " [  0.   0.]\n",
      " [101.   1.]\n",
      " [102.   2.]\n",
      " [103.   3.]\n",
      " [104.   4.]]\n",
      "[[  0.   0.]\n",
      " [  0.   0.]\n",
      " [  0.   0.]\n",
      " [  0.   0.]\n",
      " [  0.   0.]\n",
      " [  0.   0.]\n",
      " [  0.   0.]\n",
      " [  0.   0.]\n",
      " [  0.   0.]\n",
      " [  0.   0.]\n",
      " [101.   1.]\n",
      " [102.   2.]\n",
      " [103.   3.]\n",
      " [104.   4.]\n",
      " [105.   5.]]\n",
      "[[  0.   0.   0.]\n",
      " [  0.   0.   0.]\n",
      " [  0.   0.   0.]\n",
      " [  0.   0.   0.]\n",
      " [  0.   0.   0.]\n",
      " [  0.   0.   0.]\n",
      " [  0.   0.   0.]\n",
      " [  0.   0.   0.]\n",
      " [  0.   0.   0.]\n",
      " [101.   0.   1.]\n",
      " [102.   0.   2.]\n",
      " [103.   0.   3.]\n",
      " [104.   0.   4.]\n",
      " [105.   0.   5.]\n",
      " [106. 106.   6.]]\n",
      "[[  0.   0.   0.]\n",
      " [  0.   0.   0.]\n",
      " [  0.   0.   0.]\n",
      " [  0.   0.   0.]\n",
      " [  0.   0.   0.]\n",
      " [  0.   0.   0.]\n",
      " [  0.   0.   0.]\n",
      " [  0.   0.   0.]\n",
      " [101.   0.   1.]\n",
      " [102.   0.   2.]\n",
      " [103.   0.   3.]\n",
      " [104.   0.   4.]\n",
      " [105.   0.   5.]\n",
      " [106. 106.   6.]\n",
      " [107. 107.   7.]]\n",
      "[[  0.   0.   0.]\n",
      " [  0.   0.   0.]\n",
      " [  0.   0.   0.]\n",
      " [  0.   0.   0.]\n",
      " [  0.   0.   0.]\n",
      " [  0.   0.   0.]\n",
      " [  0.   0.   0.]\n",
      " [101.   0.   1.]\n",
      " [102.   0.   2.]\n",
      " [103.   0.   3.]\n",
      " [104.   0.   4.]\n",
      " [105.   0.   5.]\n",
      " [106. 106.   6.]\n",
      " [107. 107.   7.]\n",
      " [108. 108.   8.]]\n",
      "[[  0.   0.   0.]\n",
      " [  0.   0.   0.]\n",
      " [  0.   0.   0.]\n",
      " [  0.   0.   0.]\n",
      " [  0.   0.   0.]\n",
      " [  0.   0.   0.]\n",
      " [101.   0.   1.]\n",
      " [102.   0.   2.]\n",
      " [103.   0.   3.]\n",
      " [104.   0.   4.]\n",
      " [105.   0.   5.]\n",
      " [106. 106.   6.]\n",
      " [107. 107.   7.]\n",
      " [108. 108.   8.]\n",
      " [109. 109.   9.]]\n"
     ]
    }
   ],
   "source": [
    "for i in range(1,10):\n",
    "    data.put(\"Tp2\", 100+i, i)\n",
    "    if (i>5):\n",
    "        data.put(\"To2\", 100+i, i)\n",
    "    print(np.concatenate((data.values,data.record_times), axis = 1))    "
   ]
  },
  {
   "cell_type": "code",
   "execution_count": 224,
   "metadata": {},
   "outputs": [
    {
     "data": {
      "text/plain": [
       "array([[  0.,   0.],\n",
       "       [  0.,   0.],\n",
       "       [  0.,   0.],\n",
       "       [  0.,   0.],\n",
       "       [  0.,   0.],\n",
       "       [  0.,   0.],\n",
       "       [101.,   0.],\n",
       "       [102.,   0.],\n",
       "       [103.,   0.],\n",
       "       [104.,   0.],\n",
       "       [105.,   0.],\n",
       "       [106., 106.],\n",
       "       [107., 107.],\n",
       "       [108., 108.],\n",
       "       [109., 109.]])"
      ]
     },
     "execution_count": 224,
     "metadata": {},
     "output_type": "execute_result"
    }
   ],
   "source": [
    "data.values"
   ]
  },
  {
   "cell_type": "code",
   "execution_count": 225,
   "metadata": {},
   "outputs": [
    {
     "data": {
      "text/plain": [
       "array([[0.],\n",
       "       [0.],\n",
       "       [0.],\n",
       "       [0.],\n",
       "       [0.],\n",
       "       [0.],\n",
       "       [1.],\n",
       "       [2.],\n",
       "       [3.],\n",
       "       [4.],\n",
       "       [5.],\n",
       "       [6.],\n",
       "       [7.],\n",
       "       [8.],\n",
       "       [9.]])"
      ]
     },
     "execution_count": 225,
     "metadata": {},
     "output_type": "execute_result"
    }
   ],
   "source": [
    "data.record_times"
   ]
  },
  {
   "cell_type": "code",
   "execution_count": 226,
   "metadata": {},
   "outputs": [
    {
     "data": {
      "text/plain": [
       "['Tp2', 'To2']"
      ]
     },
     "execution_count": 226,
     "metadata": {},
     "output_type": "execute_result"
    }
   ],
   "source": [
    "data.names"
   ]
  },
  {
   "cell_type": "code",
   "execution_count": 227,
   "metadata": {},
   "outputs": [],
   "source": [
    "t = (\"T2222\", 100, 0)\n",
    "data.put(*t)"
   ]
  },
  {
   "cell_type": "code",
   "execution_count": 245,
   "metadata": {},
   "outputs": [
    {
     "data": {
      "text/plain": [
       "['Tp2', 'To2', 'T2222']"
      ]
     },
     "execution_count": 245,
     "metadata": {},
     "output_type": "execute_result"
    }
   ],
   "source": [
    "data.names"
   ]
  },
  {
   "cell_type": "code",
   "execution_count": null,
   "metadata": {},
   "outputs": [],
   "source": []
  },
  {
   "cell_type": "code",
   "execution_count": 257,
   "metadata": {},
   "outputs": [
    {
     "name": "stdout",
     "output_type": "stream",
     "text": [
      "['time', 'Tp2', 'To2', 'T2222']\n",
      "[[  0.   0.   0.   0.]\n",
      " [  0.   0.   0.   0.]\n",
      " [  0.   0.   0.   0.]\n",
      " [  0.   0.   0.   0.]\n",
      " [  0.   0.   0.   0.]\n",
      " [  0.   0.   0.   0.]\n",
      " [  1. 101.   0.   0.]\n",
      " [  2. 102.   0.   0.]\n",
      " [  3. 103.   0.   0.]\n",
      " [  4. 104.   0.   0.]\n",
      " [  5. 105.   0.   0.]\n",
      " [  6. 106. 106.   0.]\n",
      " [  7. 107. 107.   0.]\n",
      " [  8. 108. 108.   0.]\n",
      " [  9. 109. 109.   0.]]\n"
     ]
    }
   ],
   "source": [
    "import copy\n",
    "intermed = np.concatenate((data.record_times, data.values), axis = 1)\n",
    "intermed_names = [\"time\"]\n",
    "intermed_names.extend(data.names)\n",
    "\n",
    "print(intermed_names)\n",
    "print(intermed)\n"
   ]
  },
  {
   "cell_type": "code",
   "execution_count": null,
   "metadata": {},
   "outputs": [],
   "source": []
  },
  {
   "cell_type": "code",
   "execution_count": null,
   "metadata": {},
   "outputs": [],
   "source": []
  }
 ],
 "metadata": {
  "kernelspec": {
   "display_name": "Python 3",
   "language": "python",
   "name": "python3"
  },
  "language_info": {
   "codemirror_mode": {
    "name": "ipython",
    "version": 3
   },
   "file_extension": ".py",
   "mimetype": "text/x-python",
   "name": "python",
   "nbconvert_exporter": "python",
   "pygments_lexer": "ipython3",
   "version": "3.6.9"
  }
 },
 "nbformat": 4,
 "nbformat_minor": 4
}
