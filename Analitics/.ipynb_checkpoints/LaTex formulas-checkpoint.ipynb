{
 "cells": [
  {
   "cell_type": "markdown",
   "metadata": {},
   "source": [
    "$\n",
    "\\begin{equation*}\n",
    "TA9\\_:\\\\1.\\;Gh\\;=\\;Gs\\;+\\;Gr\\\\gamma\\;\\cong\\;1,39\\\\C\\;\\cong\\;34,96\\\\2.\\;Pin^{1-gamma}\\times Th^{gamma}=Pout^{1-gamma}\\times Ts^{gamma}\\\\3.\\;W\\;=\\;C\\;\\times\\;\\frac{{(\\frac{Ts}{Pout})}^{gamma-1}-{(\\frac{Th}{Pin})}^{gamma-1}}{{(\\frac{Ts}{Pout})}^{gamma-1}\\times{(\\frac{Th}{Pin})}^{gamma-1}}\n",
    "\\end{equation*}\n",
    "$"
   ]
  },
  {
   "cell_type": "markdown",
   "metadata": {},
   "source": [
    "$\n",
    "\\begin{equation*}\n",
    "Gp2\\;=\\;Go2+GoSN2\\\\Go11\\;=\\;Go4\\;+\\;GoSN4\\;-\\;Go2\\\\To11\\;=\\;(Go4\\ast To4\\;+\\;GoSN4\\ast ToSN4\\;-\\;Go2\\ast To2)/Go11\\\\Gpb4\\;=\\;Gp2\\;+\\;Go11\\\\Gp4\\;=\\;Gpb4\\;-\\;GpSN4\\\\Go14\\;=\\;Gpp\\;+\\;Go5\\;+\\;GoSN5\\\\To14\\;=\\;(Gpp\\ast Tpp\\;+\\;Go5\\ast To5\\;+\\;GoSN5\\ast ToSN5)/Go14\\\\Gp5\\;=\\;Go14\\;-\\;GpSN5\\\\\\\\\\\\\n",
    "\\end{equation*}\n",
    "$"
   ]
  },
  {
   "cell_type": "code",
   "execution_count": null,
   "metadata": {},
   "outputs": [],
   "source": []
  }
 ],
 "metadata": {
  "kernelspec": {
   "display_name": "Python 3",
   "language": "python",
   "name": "python3"
  },
  "language_info": {
   "codemirror_mode": {
    "name": "ipython",
    "version": 3
   },
   "file_extension": ".py",
   "mimetype": "text/x-python",
   "name": "python",
   "nbconvert_exporter": "python",
   "pygments_lexer": "ipython3",
   "version": "3.6.9"
  }
 },
 "nbformat": 4,
 "nbformat_minor": 4
}
