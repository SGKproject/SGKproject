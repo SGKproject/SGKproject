{
 "cells": [
  {
   "cell_type": "code",
   "execution_count": 1,
   "metadata": {
    "colab": {},
    "colab_type": "code",
    "id": "PCV7HsyP2Wzw"
   },
   "outputs": [
    {
     "name": "stderr",
     "output_type": "stream",
     "text": [
      "WARNING (theano.tensor.blas): Using NumPy C-API based implementation for BLAS functions.\n"
     ]
    }
   ],
   "source": [
    "import numpy as np\n",
    "from scipy.optimize import minimize\n",
    "import scipy.stats as stats\n",
    "import matplotlib.pyplot as plt\n",
    "from pymc3.distributions.mixture import NormalMixture"
   ]
  },
  {
   "cell_type": "code",
   "execution_count": 2,
   "metadata": {
    "colab": {},
    "colab_type": "code",
    "id": "4rV6mlxK2Wz2"
   },
   "outputs": [],
   "source": [
    "#x1+x2=x3\n",
    "## Создадим генератор наблюдений\n",
    "def observation(size=10):\n",
    "    x1_1=stats.norm(loc=10,scale=3).rvs(size//2)\n",
    "    x1_2=stats.norm(loc=50,scale=3).rvs((size+1)//2)\n",
    "    x2_1=stats.norm(loc=40,scale=3).rvs(size//2)\n",
    "    x2_2=stats.norm(loc=90,scale=3).rvs((size+1)//2)\n",
    "    x1=np.concatenate((x1_1,x1_2))\n",
    "    x2=np.concatenate((x2_1,x2_2))\n",
    "    x3=x1+x2+stats.norm(loc=0,scale=2).rvs(size)\n",
    "    return np.array([x1,x2,x3]).T\n",
    "#rvs генерит значения\n",
    "#T транспонирует матрицу. просто иначе получается массив вида [[x11,x12,..],[x21,x22,..],[x31,x32,...]]"
   ]
  },
  {
   "cell_type": "code",
   "execution_count": 7,
   "metadata": {},
   "outputs": [
    {
     "data": {
      "text/plain": [
       "array([1, 2, 3, 4])"
      ]
     },
     "execution_count": 7,
     "metadata": {},
     "output_type": "execute_result"
    }
   ],
   "source": [
    "np.concatenate(([1,2],[3,4]))"
   ]
  },
  {
   "cell_type": "code",
   "execution_count": 0,
   "metadata": {
    "colab": {},
    "colab_type": "code",
    "id": "Qadu1OE82Wz6"
   },
   "outputs": [],
   "source": [
    "conditions = ({'type': 'eq', 'fun' : lambda x: np.array([x[0] + x[1] - x[2]])}) #условие x[0]+x[1]-x[2]=0\n",
    "\n",
    "def bonds(x,obs):#x- вектор, который оптимизирует scipy\n",
    "    x1=stats.norm.logpdf(obs[0],loc=x[0],scale=2)\n",
    "    x2=stats.norm.logpdf(obs[1],loc=x[1],scale=2)\n",
    "    x3=stats.norm.logpdf(obs[2],loc=x[2],scale=2)\n",
    "    return -(x1+x2+x3)#по сути ввожу функциональную связь на x1,x2,x3\n",
    "\n",
    "def likelihood(x,truth_x):\n",
    "    #P(X=(x11,x12,x13..)|theta)=P(X=x11|theta)*...P(X=x1n|theta) \n",
    "    x1=NormalMixture.dist(mu=np.array([x[0],x[1]]),\n",
    "                        sigma=np.array([5,5]),w=np.array([0.5,0.5])).logp(truth_x[:,0]).eval()\n",
    "    x2=NormalMixture.dist(mu=np.array([x[2],x[3]]),\n",
    "                          sigma=np.array([5,5]),w=np.array([0.5,0.5])).logp(truth_x[:,1]).eval()\n",
    "    x3=NormalMixture.dist(mu=np.array([x[4],x[5]]),\n",
    "                          sigma=np.array([5,5]),w=np.array([0.5,0.5])).logp(truth_x[:,2]).eval()\n",
    "    print(-(x1.sum()+x2.sum()+x3.sum()),end=\"\\r\")\n",
    "    return -(x1.sum()+x2.sum()+x3.sum())"
   ]
  },
  {
   "cell_type": "code",
   "execution_count": 0,
   "metadata": {
    "colab": {},
    "colab_type": "code",
    "id": "lGomEva22Wz-"
   },
   "outputs": [],
   "source": [
    "#делаю налюдения\n",
    "obs = observation(100)\n",
    "#E-step\n",
    "#нахожу истинные значения\n",
    "truth_x = np.array([minimize(bonds, x0=i, args=i, constraints=conditions).x for i in obs])"
   ]
  },
  {
   "cell_type": "code",
   "execution_count": 0,
   "metadata": {
    "colab": {
     "base_uri": "https://localhost:8080/",
     "height": 391
    },
    "colab_type": "code",
    "id": "Wbfu8HUj2W0C",
    "outputId": "d54607ec-e7df-42ce-b5ec-faa379f062ca"
   },
   "outputs": [
    {
     "name": "stdout",
     "output_type": "stream",
     "text": [
      "      fun: 1044.4739309350796\n",
      " hess_inv: array([[ 0.82474282, -0.22278423, -0.07199728, -0.13419717, -0.07208933,\n",
      "        -0.11716708],\n",
      "       [-0.22278423,  0.71177631, -0.02314544, -0.14463541, -0.07839443,\n",
      "        -0.14495141],\n",
      "       [-0.07199728, -0.02314544,  0.25393981, -0.15826473, -0.13997218,\n",
      "        -0.16671023],\n",
      "       [-0.13419717, -0.14463541, -0.15826473,  0.98149882, -0.18538734,\n",
      "        -0.05353629],\n",
      "       [-0.07208933, -0.07839443, -0.13997218, -0.18538734,  0.67946102,\n",
      "         0.17664734],\n",
      "       [-0.11716708, -0.14495141, -0.16671023, -0.05353629,  0.17664734,\n",
      "         0.70209049]])\n",
      "      jac: array([0., 0., 0., 0., 0., 0.])\n",
      "  message: 'Optimization terminated successfully.'\n",
      "     nfev: 88\n",
      "      nit: 6\n",
      "     njev: 11\n",
      "   status: 0\n",
      "  success: True\n",
      "        x: array([  9.70299222,  50.55187887,  40.71872476,  90.22851599,\n",
      "        50.42171874, 140.78039539])\n"
     ]
    }
   ],
   "source": [
    "thetas=[13,55,35,95,65,130]\n",
    "#M-step\n",
    "thetas= minimize(likelihood, x0=thetas, args=truth_x)\n",
    "print(thetas)"
   ]
  }
 ],
 "metadata": {
  "colab": {
   "collapsed_sections": [],
   "name": "EM.ipynb",
   "provenance": []
  },
  "kernelspec": {
   "display_name": "Python 3",
   "language": "python",
   "name": "python3"
  },
  "language_info": {
   "codemirror_mode": {
    "name": "ipython",
    "version": 3
   },
   "file_extension": ".py",
   "mimetype": "text/x-python",
   "name": "python",
   "nbconvert_exporter": "python",
   "pygments_lexer": "ipython3",
   "version": "3.6.9"
  }
 },
 "nbformat": 4,
 "nbformat_minor": 1
}
