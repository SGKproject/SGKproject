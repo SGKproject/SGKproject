{
 "cells": [
  {
   "cell_type": "code",
   "execution_count": 77,
   "metadata": {
    "colab": {},
    "colab_type": "code",
    "id": "PCV7HsyP2Wzw"
   },
   "outputs": [],
   "source": [
    "import statistics\n",
    "import random\n",
    "import numpy as np\n",
    "from scipy.optimize import minimize\n",
    "import scipy.stats as stats\n",
    "import matplotlib.pyplot as plt\n",
    "from pymc3.distributions.mixture import NormalMixture"
   ]
  },
  {
   "cell_type": "code",
   "execution_count": 57,
   "metadata": {
    "colab": {},
    "colab_type": "code",
    "id": "4rV6mlxK2Wz2"
   },
   "outputs": [],
   "source": [
    "#x1+x2=x3\n",
    "## Создадим генератор наблюдений\n",
    "def observation(size=10):\n",
    "    x1_1=stats.norm(loc=10,scale=3).rvs(size//2)\n",
    "    x1_2=stats.norm(loc=50,scale=3).rvs((size+1)//2)\n",
    "    x2_1=stats.norm(loc=40,scale=3).rvs(size//2)\n",
    "    x2_2=stats.norm(loc=90,scale=3).rvs((size+1)//2)\n",
    "    x1=np.concatenate((x1_1,x1_2))\n",
    "    x2=np.concatenate((x2_1,x2_2))\n",
    "    x3=x1+x2+stats.norm(loc=0,scale=2).rvs(size)\n",
    "    return np.array([x1,x2,x3]).T\n",
    "#rvs генерит значения\n",
    "#T транспонирует матрицу. просто иначе получается массив вида [[x11,x12,..],[x21,x22,..],[x31,x32,...]]"
   ]
  },
  {
   "cell_type": "code",
   "execution_count": 58,
   "metadata": {},
   "outputs": [
    {
     "name": "stdout",
     "output_type": "stream",
     "text": [
      "[ 8.50514435 38.95928416 47.61156481]\n"
     ]
    },
    {
     "data": {
      "text/plain": [
       "array([[  8.50514435,  38.95928416,  47.61156481],\n",
       "       [ 10.25881589,  37.39599727,  45.52326114],\n",
       "       [  9.62278201,  38.7418324 ,  48.40016218],\n",
       "       [ 11.00209601,  37.47800384,  46.75837185],\n",
       "       [ 16.45157806,  30.96374742,  47.61142936],\n",
       "       [ 44.94655016,  87.68056379, 133.06019791],\n",
       "       [ 46.12747181,  88.65167011, 135.65805414],\n",
       "       [ 51.1745709 ,  93.37555654, 143.61270089],\n",
       "       [ 50.67463981,  91.87987513, 142.9722011 ],\n",
       "       [ 48.88939178,  89.40635512, 138.83292221]])"
      ]
     },
     "execution_count": 58,
     "metadata": {},
     "output_type": "execute_result"
    }
   ],
   "source": [
    "a=observation()\n",
    "print(a[0])\n",
    "a"
   ]
  },
  {
   "cell_type": "code",
   "execution_count": 82,
   "metadata": {
    "colab": {},
    "colab_type": "code",
    "id": "Qadu1OE82Wz6"
   },
   "outputs": [],
   "source": [
    "conditions = ({'type': 'eq', 'fun' : lambda x: np.array([x[0] + x[1] - x[2]])}) #условие x[0]+x[1]-x[2]=0\n",
    "\n",
    "\n",
    "def bonds(x,obs):#x- вектор, который оптимизирует scipy\n",
    "    x1=stats.norm.logpdf(obs[0],loc=x[0],scale=2)\n",
    "    x2=stats.norm.logpdf(obs[1],loc=x[1],scale=2)\n",
    "    x3=stats.norm.logpdf(obs[2],loc=x[2],scale=2)\n",
    " \n",
    "    return -(x1+x2+x3)#по сути ввожу функциональную связь на x1,x2,x3\n",
    "\n",
    "def likelihood(x,truth_x):\n",
    "    #P(X=(x11,x12,x13..)|theta)=P(X=x11|theta)*...P(X=x1n|theta) \n",
    "    x1=NormalMixture.dist(mu=np.array([x[0],x[1]]),\n",
    "                        sigma=np.array([x[6],x[7]]),w=np.array([0.5,0.5])).logp(truth_x[:,0]).eval()\n",
    "    x2=NormalMixture.dist(mu=np.array([x[2],x[3]]),\n",
    "                          sigma=np.array([x[8],x[9]]),w=np.array([0.5,0.5])).logp(truth_x[:,1]).eval()\n",
    "    x3=NormalMixture.dist(mu=np.array([x[4],x[5]]),\n",
    "                          sigma=np.array([x[10],x[11]]),w=np.array([0.5,0.5])).logp(truth_x[:,2]).eval()\n",
    "    print(-(x1.sum()+x2.sum()+x3.sum()),end=\"\\r\")\n",
    "    return -(x1.sum()+x2.sum()+x3.sum())"
   ]
  },
  {
   "cell_type": "code",
   "execution_count": 100,
   "metadata": {},
   "outputs": [
    {
     "name": "stdout",
     "output_type": "stream",
     "text": [
      "[ 1.21294808 14.90467731 52.4842386  51.24589122 49.43263396]\n"
     ]
    }
   ],
   "source": [
    "#делаю налюдения\n",
    "obs = observation(5)\n",
    "print(obs[:,0])\n",
    "#np.var(obs[:,2]) "
   ]
  },
  {
   "cell_type": "code",
   "execution_count": 101,
   "metadata": {
    "colab": {},
    "colab_type": "code",
    "id": "lGomEva22Wz-"
   },
   "outputs": [],
   "source": [
    "#E-step\n",
    "#нахожу истинные значения\n",
    "truth_x = np.array([minimize(bonds, x0=i, args=i, constraints=conditions).x for i in obs])"
   ]
  },
  {
   "cell_type": "markdown",
   "metadata": {},
   "source": [
    "### Нет смысла уменьшать количество итераций, везде по 2 итерации"
   ]
  },
  {
   "cell_type": "code",
   "execution_count": 102,
   "metadata": {},
   "outputs": [
    {
     "name": "stdout",
     "output_type": "stream",
     "text": [
      "     fun: 4.891445208970836\n",
      "     jac: array([-0.09590626, -0.09590626,  0.09590626])\n",
      " message: 'Optimization terminated successfully.'\n",
      "    nfev: 10\n",
      "     nit: 2\n",
      "    njev: 2\n",
      "  status: 0\n",
      " success: True\n",
      "       x: array([ 0.82932303, 41.64871835, 42.47804138])\n",
      "     fun: 4.837467412850685\n",
      "     jac: array([-0.01420248, -0.01420248,  0.01420254])\n",
      " message: 'Optimization terminated successfully.'\n",
      "    nfev: 10\n",
      "     nit: 2\n",
      "    njev: 2\n",
      "  status: 0\n",
      " success: True\n",
      "       x: array([14.84786718, 42.38551997, 57.23338715])\n",
      "     fun: 4.863107446463495\n",
      "     jac: array([ 0.06689584,  0.06689584, -0.06689584])\n",
      " message: 'Optimization terminated successfully.'\n",
      "    nfev: 10\n",
      "     nit: 2\n",
      "    njev: 2\n",
      "  status: 0\n",
      " success: True\n",
      "       x: array([ 52.75182188,  92.73740318, 145.48922507])\n",
      "     fun: 4.849317295389741\n",
      "     jac: array([-0.04665506, -0.04665506,  0.046655  ])\n",
      " message: 'Optimization terminated successfully.'\n",
      "    nfev: 10\n",
      "     nit: 2\n",
      "    njev: 2\n",
      "  status: 0\n",
      " success: True\n",
      "       x: array([ 51.05927108,  92.17717007, 143.23644115])\n",
      "     fun: 4.850667293419608\n",
      "     jac: array([-0.04900706, -0.04900706,  0.04900706])\n",
      " message: 'Optimization terminated successfully.'\n",
      "    nfev: 10\n",
      "     nit: 2\n",
      "    njev: 2\n",
      "  status: 0\n",
      " success: True\n",
      "       x: array([ 49.23660572,  91.63707836, 140.87368408])\n"
     ]
    }
   ],
   "source": [
    "for i in obs:\n",
    "    a=minimize(bonds, x0=i, args=i, constraints=conditions)\n",
    "    print(a)"
   ]
  },
  {
   "cell_type": "markdown",
   "metadata": {},
   "source": [
    "### Оптимально 2-3 итерации (сам он делает 7-9)"
   ]
  },
  {
   "cell_type": "code",
   "execution_count": 103,
   "metadata": {},
   "outputs": [],
   "source": [
    " \n",
    "options = dict(maxiter=6, disp=True)\n"
   ]
  },
  {
   "cell_type": "code",
   "execution_count": 104,
   "metadata": {
    "colab": {
     "base_uri": "https://localhost:8080/",
     "height": 391
    },
    "colab_type": "code",
    "id": "Wbfu8HUj2W0C",
    "outputId": "d54607ec-e7df-42ce-b5ec-faa379f062ca"
   },
   "outputs": [
    {
     "name": "stdout",
     "output_type": "stream",
     "text": [
      "Warning: Maximum number of iterations has been exceeded.\n",
      "         Current function value: 49.788768\n",
      "         Iterations: 6\n",
      "         Function evaluations: 168\n",
      "         Gradient evaluations: 12\n",
      "      fun: 49.788768237289126\n",
      " hess_inv: array([[ 1.1420829 ,  0.21280652, -0.243041  , -0.07900555,  0.26229456,\n",
      "        -0.3628578 , -0.13326242,  0.37107849,  0.02636243,  0.05897341,\n",
      "        -0.25061782, -0.11718807],\n",
      "       [ 0.21280652,  1.2887902 , -0.36228104, -0.12705803,  0.39444427,\n",
      "        -0.5445186 , -0.20241438,  0.58790229,  0.04499297,  0.06435479,\n",
      "        -0.39060814, -0.18706507],\n",
      "       [-0.243041  , -0.36228104,  1.41511763,  0.13644688, -0.44901066,\n",
      "         0.62107381,  0.22967431, -0.63263311, -0.04350526, -0.10033538,\n",
      "         0.43474002,  0.20721367],\n",
      "       [-0.07900555, -0.12705803,  0.13644688,  0.18123418, -0.14514317,\n",
      "         0.20219175,  0.07278611, -0.16353954, -0.00785849, -0.06711842,\n",
      "         0.13158887,  0.06184065],\n",
      "       [ 0.26229456,  0.39444427, -0.44901066, -0.14514317,  1.47419766,\n",
      "        -0.65800911, -0.24518885,  0.68245317,  0.04803223,  0.10845078,\n",
      "        -0.40778274, -0.16931161],\n",
      "       [-0.3628578 , -0.5445186 ,  0.62107381,  0.20219175, -0.65800911,\n",
      "         1.91251087,  0.33935872, -0.94466671, -0.06642781, -0.15011024,\n",
      "         0.5750011 ,  0.24327157],\n",
      "       [-0.13326242, -0.20241438,  0.22967431,  0.07278611, -0.24518885,\n",
      "         0.33935872,  1.12002307, -0.35737047, -0.03005963, -0.05671791,\n",
      "         0.21847788,  0.09081675],\n",
      "       [ 0.37107849,  0.58790229, -0.63263311, -0.16353954,  0.68245317,\n",
      "        -0.94466671, -0.35737047,  1.88700412,  0.04274475,  0.13273863,\n",
      "        -0.66291504, -0.32733145],\n",
      "       [ 0.02636243,  0.04499297, -0.04350526, -0.00785849,  0.04803223,\n",
      "        -0.06642781, -0.03005963,  0.04274475,  0.99495774,  0.0069947 ,\n",
      "        -0.05594338, -0.03605118],\n",
      "       [ 0.05897341,  0.06435479, -0.10033538, -0.06711842,  0.10845078,\n",
      "        -0.15011024, -0.05671791,  0.13273863,  0.0069947 ,  0.10648588,\n",
      "        -0.10393284, -0.05077781],\n",
      "       [-0.25061782, -0.39060814,  0.43474002,  0.13158887, -0.40778274,\n",
      "         0.5750011 ,  0.21847788, -0.66291504, -0.05594338, -0.10393284,\n",
      "         1.11154659, -0.08870643],\n",
      "       [-0.11718807, -0.18706507,  0.20721367,  0.06184065, -0.16931161,\n",
      "         0.24327157,  0.09081675, -0.32733145, -0.03605118, -0.05077781,\n",
      "        -0.08870643,  0.82736868]])\n",
      "      jac: array([ 0.08717823,  0.09089518, -0.18290663, -2.09871101,  0.20602846,\n",
      "       -0.27936888,  0.03092527,  0.79747057,  0.22711039,  0.6133256 ,\n",
      "       -0.12476587,  0.08425665])\n",
      "  message: 'Maximum number of iterations has been exceeded.'\n",
      "     nfev: 168\n",
      "      nit: 6\n",
      "     njev: 12\n",
      "   status: 1\n",
      "  success: False\n",
      "        x: array([ 10.69256542,  51.20605476,  38.6533556 ,  91.99961734,\n",
      "        60.91863603, 135.64754607,   8.09143859,   2.50518621,\n",
      "         6.06475315,   0.51322467,  10.36301468,   9.00553616])\n",
      "CPU times: user 6min 56s, sys: 15.3 s, total: 7min 11s\n",
      "Wall time: 7min 15s\n"
     ]
    }
   ],
   "source": [
    "%%time \n",
    "thetas=[13,55,35,95,65,130,5,5,5,5,5,5]\n",
    "#M-step\n",
    "thetas= minimize(likelihood, x0=thetas, args=truth_x, options=options)\n",
    "print(thetas)"
   ]
  },
  {
   "cell_type": "code",
   "execution_count": null,
   "metadata": {},
   "outputs": [],
   "source": []
  },
  {
   "cell_type": "code",
   "execution_count": null,
   "metadata": {},
   "outputs": [],
   "source": []
  }
 ],
 "metadata": {
  "colab": {
   "collapsed_sections": [],
   "name": "EM.ipynb",
   "provenance": []
  },
  "kernelspec": {
   "display_name": "Python 3",
   "language": "python",
   "name": "python3"
  },
  "language_info": {
   "codemirror_mode": {
    "name": "ipython",
    "version": 3
   },
   "file_extension": ".py",
   "mimetype": "text/x-python",
   "name": "python",
   "nbconvert_exporter": "python",
   "pygments_lexer": "ipython3",
   "version": "3.6.9"
  }
 },
 "nbformat": 4,
 "nbformat_minor": 1
}
